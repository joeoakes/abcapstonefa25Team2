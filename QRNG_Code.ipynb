{
  "nbformat": 4,
  "nbformat_minor": 0,
  "metadata": {
    "colab": {
      "provenance": [],
      "authorship_tag": "ABX9TyM/U1hr4YyxKoFuQHHIfCLD",
      "include_colab_link": true
    },
    "kernelspec": {
      "name": "python3",
      "display_name": "Python 3"
    },
    "language_info": {
      "name": "python"
    }
  },
  "cells": [
    {
      "cell_type": "markdown",
      "metadata": {
        "id": "view-in-github",
        "colab_type": "text"
      },
      "source": [
        "<a href=\"https://colab.research.google.com/github/joeoakes/abcapstonefa25Team2/blob/main/QRNG_Code.ipynb\" target=\"_parent\"><img src=\"https://colab.research.google.com/assets/colab-badge.svg\" alt=\"Open In Colab\"/></a>"
      ]
    },
    {
      "cell_type": "code",
      "execution_count": 5,
      "metadata": {
        "colab": {
          "base_uri": "https://localhost:8080/"
        },
        "id": "9-PafG6a_6G7",
        "outputId": "020be451-9c25-43fe-ebd2-4a4c1d3fb856"
      },
      "outputs": [
        {
          "output_type": "stream",
          "name": "stdout",
          "text": [
            "Random bits: 1111111100000000\n",
            "Random number: 65280\n",
            "Execution time: 0.00196 seconds\n",
            "\n",
            "Cirq QRNG\n",
            "Random bits: 1011101100011011\n",
            "Random number: 47899\n",
            "Execution time: 0.00251 seconds\n",
            "\n",
            "Cirq QRNG circuit\n",
            "(0, 0): ───X^0.5───M('m')───\n"
          ]
        }
      ],
      "source": [
        "!pip install qiskit qiskit-aer cirq --quiet #install qiskit tools quietly so there is no logs\n",
        "from qiskit import QuantumCircuit #tool to make quantum circuts\n",
        "from qiskit_aer import Aer\n",
        "import time\n",
        "import cirq\n",
        "\n",
        "start_qiskit = time.time()\n",
        "\n",
        "num_bits = 16\n",
        "\n",
        "qc = QuantumCircuit(1, 1)\n",
        "qc.h(0)\n",
        "qc.measure(0, 0)\n",
        "\n",
        "\n",
        "backend = Aer.get_backend('qasm_simulator')\n",
        "job = backend.run(qc, shots=num_bits)\n",
        "counts = job.result().get_counts()\n",
        "\n",
        "random_bits = \"\"\n",
        "for outcome, count in counts.items():\n",
        "    random_bits += outcome * count\n",
        "\n",
        "end_qiskit = time.time()\n",
        "\n",
        "random_bits = random_bits[:num_bits]\n",
        "random_number = int(random_bits, 2)\n",
        "print(\"Random bits:\", random_bits)\n",
        "print(\"Random number:\", random_number)\n",
        "print(f\"Execution time: {end_qiskit - start_qiskit:.5f} seconds\\n\")\n",
        "\n",
        "start_cirq = time.time()\n",
        "\n",
        "qubit = cirq.GridQubit(0, 0)\n",
        "circuit = cirq.Circuit(\n",
        "    cirq.X(qubit)**0.5,  # Square root of NOT gate (superposition)\n",
        "    cirq.measure(qubit, key='m')\n",
        ")\n",
        "\n",
        "simulator = cirq.Simulator()\n",
        "result = simulator.run(circuit, repetitions=num_bits)\n",
        "\n",
        "measurements = result.measurements['m'].flatten()\n",
        "random_bits_cirq = ''.join(map(str, measurements))\n",
        "random_number_cirq = int(random_bits_cirq, 2)\n",
        "\n",
        "end_cirq = time.time()\n",
        "\n",
        "print(\"Cirq QRNG\")\n",
        "print(\"Random bits:\", random_bits_cirq)\n",
        "print(\"Random number:\", random_number_cirq)\n",
        "print(f\"Execution time: {end_cirq - start_cirq:.5f} seconds\\n\")\n",
        "print(\"Cirq QRNG circuit\")\n",
        "print(circuit)"
      ]
    }
  ]
}